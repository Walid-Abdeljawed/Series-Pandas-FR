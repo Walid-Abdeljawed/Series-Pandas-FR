{
 "cells": [
  {
   "cell_type": "markdown",
   "metadata": {},
   "source": [
    "<h1>Analyse de données avec la bibliothèque Pandas</h1>",
    "<h1>Les Séries</h1>",
    "<hr>\n",
    "<b>Créer par : </b> <i>Walid ABDELJAWED</i><br>\n",
    "    <b>Inspirer de :</b> <a href=\"https://github.com/3wen/Python_pour_economistes/blob/master/notebooks/09_pandas.ipynb\">Notebook Ewen Gallic</a>\n",
    "<hr>\n",
    "\n",
    "# Introduction\n",
    "\n",
    "Pandas est une librairie open-source basée sur NumPy fournissant des structures de données facile à manipuler, et des outils d’analyse de données. Deux structures sont offertes par cette bibliothèque: \n",
    "\n",
    "* <b>Série : </b>  tableaux à une dimension de données indexées. \n",
    "* <b>Dataframe : </b> tableau à deux dimensions indexées en ligne et en colonne\n",
    "<hr>\n",
    "\n"
   ]
  },
  {
   "cell_type": "markdown",
   "metadata": {},
   "source": [
    "\n",
    "<a href=\"https://pandas.pydata.org/pandas-docs/stable/reference/series.html\">Documentation officielle : Séries</a>\n",
    "\n",
    "- Une series Pandas est composé de:\n",
    "  * un tableau 1D de données (éventuellement hétérogènes)\n",
    "  * une séquence d'étiquettes appelée index de même longueur que le tableau 1D\n",
    "  \n",
    "   \n",
    "- l'index peut être du contenu numérique, des chaînes de caractères, ou des dates-heures.\n",
    "\n",
    "- si l'index est une valeur temporelle, alors il s'agit d'une time series\n",
    "\n",
    "- l'index par défaut est <b>range(len(data))</B>"
   ]
  },
  {
   "cell_type": "markdown",
   "metadata": {},
   "source": [
    "## I. Création de Série\n",
    "### 1. Création d'une série à partir d'une liste"
   ]
  },
  {
   "cell_type": "code",
   "execution_count": 2,
   "metadata": {},
   "outputs": [
    {
     "data": {
      "text/plain": [
       "0    12.0\n",
       "1     4.0\n",
       "2     NaN\n",
       "3    -5.0\n",
       "4     8.5\n",
       "dtype: float64"
      ]
     },
     "execution_count": 2,
     "metadata": {},
     "output_type": "execute_result"
    }
   ],
   "source": [
    "import pandas as pd\n",
    "import numpy as np\n",
    "s = pd.Series([12,4,np.nan,-5,8.5])\n",
    "s"
   ]
  },
  {
   "cell_type": "code",
   "execution_count": 2,
   "metadata": {},
   "outputs": [
    {
     "data": {
      "text/plain": [
       "array([12. ,  4. ,  nan, -5. ,  8.5])"
      ]
     },
     "execution_count": 2,
     "metadata": {},
     "output_type": "execute_result"
    }
   ],
   "source": [
    "# les valeurs de la série\n",
    "s.values"
   ]
  },
  {
   "cell_type": "code",
   "execution_count": 3,
   "metadata": {},
   "outputs": [
    {
     "data": {
      "text/plain": [
       "RangeIndex(start=0, stop=5, step=1)"
      ]
     },
     "execution_count": 3,
     "metadata": {},
     "output_type": "execute_result"
    }
   ],
   "source": [
    "# l'index de la série\n",
    "s.index"
   ]
  },
  {
   "cell_type": "code",
   "execution_count": 5,
   "metadata": {},
   "outputs": [
    {
     "data": {
      "text/plain": [
       "a    12.0\n",
       "b     4.0\n",
       "c     NaN\n",
       "d    -5.0\n",
       "e     8.5\n",
       "dtype: float64"
      ]
     },
     "execution_count": 5,
     "metadata": {},
     "output_type": "execute_result"
    }
   ],
   "source": [
    "# Créer une série avec un index \n",
    "s = pd.Series([12,4,np.nan,-5,8.5],index=[\"a\",\"b\",\"c\",\"d\",\"e\"])\n",
    "s"
   ]
  },
  {
   "cell_type": "code",
   "execution_count": 6,
   "metadata": {},
   "outputs": [
    {
     "data": {
      "text/plain": [
       "Index(['a', 'b', 'c', 'd', 'e'], dtype='object')"
      ]
     },
     "execution_count": 6,
     "metadata": {},
     "output_type": "execute_result"
    }
   ],
   "source": [
    "s.index"
   ]
  },
  {
   "cell_type": "code",
   "execution_count": 15,
   "metadata": {},
   "outputs": [
    {
     "data": {
      "text/plain": [
       "Index de la série \n",
       "a    5\n",
       "b    5\n",
       "c    5\n",
       "d    5\n",
       "e    5\n",
       "Name: Ma SERIE, dtype: int64"
      ]
     },
     "execution_count": 15,
     "metadata": {},
     "output_type": "execute_result"
    }
   ],
   "source": [
    "# Donner un nom à la série\n",
    "s.name=\"Ma SERIE\"\n",
    "# Donner un nom à l'index\n",
    "s.index.name=\"Index de la série \"\n",
    "s"
   ]
  },
  {
   "cell_type": "markdown",
   "metadata": {},
   "source": [
    "### 2. Création d'une série à partir d'un tableau Numpy"
   ]
  },
  {
   "cell_type": "code",
   "execution_count": 5,
   "metadata": {},
   "outputs": [
    {
     "name": "stdout",
     "output_type": "stream",
     "text": [
      "le tableau t :\n",
      " [ 1  4  7 10 13 16 19]\n",
      "la Série s:\n",
      "0     1\n",
      "1     4\n",
      "2     7\n",
      "3    10\n",
      "4    13\n",
      "5    16\n",
      "6    19\n",
      "dtype: int32\n"
     ]
    }
   ],
   "source": [
    "import numpy as np\n",
    "import pandas as pd\n",
    "t = np.arange(1,20,3)\n",
    "s = pd.Series(t)\n",
    "print('le tableau t :\\n',t)\n",
    "print(\"la Série s:\")\n",
    "print(s)"
   ]
  },
  {
   "cell_type": "markdown",
   "metadata": {},
   "source": [
    "### 3. Création d'une série à partir d'un dictionnaire "
   ]
  },
  {
   "cell_type": "code",
   "execution_count": 3,
   "metadata": {},
   "outputs": [
    {
     "data": {
      "text/plain": [
       "{'Latitude': 35.16758, 'Longitude': 8.83651, \"L'altitude\": 674}"
      ]
     },
     "execution_count": 3,
     "metadata": {},
     "output_type": "execute_result"
    }
   ],
   "source": [
    "#Création d'un dictionnaire\n",
    "kasserine ={\"Latitude\":35.1675800,\n",
    "           \"Longitude\":8.8365100,\n",
    "           \"L'altitude\":674}\n",
    "kasserine"
   ]
  },
  {
   "cell_type": "code",
   "execution_count": 4,
   "metadata": {},
   "outputs": [
    {
     "data": {
      "text/plain": [
       "Latitude       35.16758\n",
       "Longitude       8.83651\n",
       "L'altitude    674.00000\n",
       "dtype: float64"
      ]
     },
     "execution_count": 4,
     "metadata": {},
     "output_type": "execute_result"
    }
   ],
   "source": [
    "# Création de la série\n",
    "s = pd.Series(kasserine)\n",
    "s"
   ]
  },
  {
   "cell_type": "markdown",
   "metadata": {},
   "source": [
    "### 4. Création d'une série avec une valeur fixe"
   ]
  },
  {
   "cell_type": "code",
   "execution_count": 9,
   "metadata": {},
   "outputs": [
    {
     "name": "stdout",
     "output_type": "stream",
     "text": [
      "a    5\n",
      "b    5\n",
      "c    5\n",
      "d    5\n",
      "e    5\n",
      "dtype: int64\n"
     ]
    }
   ],
   "source": [
    "s = pd.Series(5,index=list(\"abcde\"))\n",
    "print(s)"
   ]
  },
  {
   "cell_type": "markdown",
   "metadata": {},
   "source": [
    "## II. Sélection\n",
    "\n",
    "On note deux manières bien distinctes pour sélectionner :\n",
    "\n",
    "— une première basée sur l’utiliation de crochets directement sur l’objet pour lequel on souhaite sélectionner certaines parties.\n",
    "\n",
    "— seconde s’appuyant sur des indexeurs, accessibles en tant qu’attributs d’objets NumPy (loc, at, iat, etc.)\n",
    "\n",
    "La seconde méthode permet d’éviter certaines confusions qui peuvent apparaître dans le cas d’index numériques."
   ]
  },
  {
   "cell_type": "markdown",
   "metadata": {},
   "source": [
    "### 1. Sélection avec les crochets\n",
    "#### a. Cas d'index de type numérique (par défaut)"
   ]
  },
  {
   "cell_type": "code",
   "execution_count": 19,
   "metadata": {},
   "outputs": [
    {
     "name": "stdout",
     "output_type": "stream",
     "text": [
      "Premier élément :\n",
      " 1.0\n",
      "du 2e élément (inclus) au 5e (non inclus) :\n",
      " 1    4.0\n",
      "2   -1.0\n",
      "3    NaN\n",
      "dtype: float64\n",
      "1er et 5e éléments :\n",
      " 0    1.0\n",
      "4    0.5\n",
      "dtype: float64\n"
     ]
    }
   ],
   "source": [
    "s = pd.Series([1,4, -1, np.nan, .5,1])\n",
    "print(\"Premier élément :\\n\",s[0])\n",
    "print(\"du 2e élément (inclus) au 5e (non inclus) :\\n\",s[1:4])\n",
    "print(\"1er et 5e éléments :\\n\",s[[0,4]])"
   ]
  },
  {
   "cell_type": "markdown",
   "metadata": {},
   "source": [
    "#### b. Cas d'index de type str"
   ]
  },
  {
   "cell_type": "code",
   "execution_count": 3,
   "metadata": {},
   "outputs": [
    {
     "name": "stdout",
     "output_type": "stream",
     "text": [
      "o    1.0\n",
      "d    4.0\n",
      "i   -1.0\n",
      "l    NaN\n",
      "dtype: float64\n"
     ]
    }
   ],
   "source": [
    "# Création de la série\n",
    "s = pd.Series([1,4, -1, np.nan],index = [\"o\",\"d\",\"i\",\"l\"])\n",
    "print(s)"
   ]
  },
  {
   "cell_type": "code",
   "execution_count": 21,
   "metadata": {},
   "outputs": [
    {
     "name": "stdout",
     "output_type": "stream",
     "text": [
      "4.0\n"
     ]
    }
   ],
   "source": [
    "# Afficher l'élément à la position d\n",
    "print(s[\"d\"])"
   ]
  },
  {
   "cell_type": "code",
   "execution_count": 22,
   "metadata": {},
   "outputs": [
    {
     "name": "stdout",
     "output_type": "stream",
     "text": [
      "4.0\n"
     ]
    }
   ],
   "source": [
    "# Afficher l'élément à la position 1\n",
    "print(s[1])"
   ]
  },
  {
   "cell_type": "code",
   "execution_count": 27,
   "metadata": {},
   "outputs": [
    {
     "name": "stdout",
     "output_type": "stream",
     "text": [
      "o    1.0\n",
      "d    4.0\n",
      "i   -1.0\n",
      "l    NaN\n",
      "dtype: float64\n"
     ]
    }
   ],
   "source": [
    "# Afficher les éléments de \"o\" à \"l\"\n",
    "print(s[\"o\":\"l\"])"
   ]
  },
  {
   "cell_type": "code",
   "execution_count": 28,
   "metadata": {},
   "outputs": [
    {
     "name": "stdout",
     "output_type": "stream",
     "text": [
      "o    1.0\n",
      "l    NaN\n",
      "dtype: float64\n"
     ]
    }
   ],
   "source": [
    "# Afficher les éléments o et l\n",
    "print(s[[\"o\",\"l\"]])"
   ]
  },
  {
   "cell_type": "markdown",
   "metadata": {},
   "source": [
    "#### c. Cas d'index de type numérique non ordonnée"
   ]
  },
  {
   "cell_type": "code",
   "execution_count": 5,
   "metadata": {},
   "outputs": [
    {
     "name": "stdout",
     "output_type": "stream",
     "text": [
      "1.0\n"
     ]
    }
   ],
   "source": [
    "# Création de la série\n",
    "s = pd.Series([1,4, -1, np.nan],index = [3,2,40,4])\n",
    "# Afficher l'élément d'indice 3\n",
    "print(s[3])"
   ]
  },
  {
   "cell_type": "markdown",
   "metadata": {},
   "source": [
    "### 2. Sélection avec les indexeurs"
   ]
  },
  {
   "cell_type": "markdown",
   "metadata": {},
   "source": [
    "Pandas propose deux types d’indiçage multi-axes : loc, iloc. \n",
    "* <b><i>loc</i></b> est basé sur l’utilisation des labels des axes, \n",
    "* <b><i>iloc</i></b> est basé sur les positions à l’aide d’entiers."
   ]
  },
  {
   "cell_type": "code",
   "execution_count": 4,
   "metadata": {},
   "outputs": [
    {
     "data": {
      "text/plain": [
       "3     1.0\n",
       "2     4.0\n",
       "40   -1.0\n",
       "4     NaN\n",
       "dtype: float64"
      ]
     },
     "execution_count": 4,
     "metadata": {},
     "output_type": "execute_result"
    }
   ],
   "source": [
    "import numpy as np\n",
    "import pandas as pd\n",
    "#Série avec index numérique\n",
    "snum = pd.Series([1,4, -1, np.nan],index = [3,2,40,4])\n",
    "snum"
   ]
  },
  {
   "cell_type": "code",
   "execution_count": 6,
   "metadata": {},
   "outputs": [
    {
     "data": {
      "text/plain": [
       "a    1.0\n",
       "b    4.0\n",
       "c   -1.0\n",
       "d    NaN\n",
       "dtype: float64"
      ]
     },
     "execution_count": 6,
     "metadata": {},
     "output_type": "execute_result"
    }
   ],
   "source": [
    "#Série avec index textuel\n",
    "stxt = pd.Series([1,4, -1, np.nan],index = [\"a\",\"b\",\"c\",\"d\"])\n",
    "stxt"
   ]
  },
  {
   "cell_type": "markdown",
   "metadata": {},
   "source": [
    "#### a. Extraction avec loc"
   ]
  },
  {
   "cell_type": "code",
   "execution_count": 9,
   "metadata": {},
   "outputs": [
    {
     "name": "stdout",
     "output_type": "stream",
     "text": [
      "-1.0\n",
      "-1.0\n"
     ]
    }
   ],
   "source": [
    "# Extraction d'un seul élément\n",
    "print(snum.loc[40])\n",
    "print(stxt.loc[\"c\"])"
   ]
  },
  {
   "cell_type": "code",
   "execution_count": 10,
   "metadata": {},
   "outputs": [
    {
     "name": "stdout",
     "output_type": "stream",
     "text": [
      "3     1.0\n",
      "40   -1.0\n",
      "dtype: float64\n",
      "a    1.0\n",
      "c   -1.0\n",
      "dtype: float64\n"
     ]
    }
   ],
   "source": [
    "# Extraction de plusieurs éléments\n",
    "print(snum.loc[[3,40]])\n",
    "print(stxt.loc[[\"a\",\"c\"]])"
   ]
  },
  {
   "cell_type": "code",
   "execution_count": 11,
   "metadata": {},
   "outputs": [
    {
     "name": "stdout",
     "output_type": "stream",
     "text": [
      "3     1.0\n",
      "2     4.0\n",
      "40   -1.0\n",
      "dtype: float64\n",
      "a    1.0\n",
      "b    4.0\n",
      "c   -1.0\n",
      "dtype: float64\n"
     ]
    }
   ],
   "source": [
    "# Découpage\n",
    "print(snum.loc[3:40])\n",
    "print(stxt.loc[\"a\":\"c\"])"
   ]
  },
  {
   "cell_type": "code",
   "execution_count": 12,
   "metadata": {},
   "outputs": [
    {
     "name": "stdout",
     "output_type": "stream",
     "text": [
      "3    1.0\n",
      "4    NaN\n",
      "dtype: float64\n",
      "a    1.0\n",
      "d    NaN\n",
      "dtype: float64\n"
     ]
    }
   ],
   "source": [
    "# Masque\n",
    "print(snum.loc[[True,False,False,True]])\n",
    "print(stxt.loc[[True,False,False,True]])"
   ]
  },
  {
   "cell_type": "markdown",
   "metadata": {},
   "source": [
    "#### b. Extraction avec iloc"
   ]
  },
  {
   "cell_type": "code",
   "execution_count": 13,
   "metadata": {},
   "outputs": [
    {
     "name": "stdout",
     "output_type": "stream",
     "text": [
      "-1.0\n",
      "-1.0\n"
     ]
    }
   ],
   "source": [
    "# Extraction d'un seul élément\n",
    "print(snum.iloc[2])\n",
    "print(stxt.iloc[2])"
   ]
  },
  {
   "cell_type": "code",
   "execution_count": 14,
   "metadata": {},
   "outputs": [
    {
     "name": "stdout",
     "output_type": "stream",
     "text": [
      "3     1.0\n",
      "40   -1.0\n",
      "dtype: float64\n",
      "a    1.0\n",
      "c   -1.0\n",
      "dtype: float64\n"
     ]
    }
   ],
   "source": [
    "# Extraction de plusieurs éléments\n",
    "print(snum.iloc[[0,2]])\n",
    "print(stxt.iloc[[0,2]])"
   ]
  },
  {
   "cell_type": "code",
   "execution_count": 15,
   "metadata": {},
   "outputs": [
    {
     "name": "stdout",
     "output_type": "stream",
     "text": [
      "3    1.0\n",
      "2    4.0\n",
      "dtype: float64\n",
      "a    1.0\n",
      "b    4.0\n",
      "dtype: float64\n"
     ]
    }
   ],
   "source": [
    "# Découpage\n",
    "print(snum.iloc[0:2])\n",
    "print(stxt.iloc[0:2])"
   ]
  },
  {
   "cell_type": "code",
   "execution_count": 16,
   "metadata": {},
   "outputs": [
    {
     "name": "stdout",
     "output_type": "stream",
     "text": [
      "3    1.0\n",
      "4    NaN\n",
      "dtype: float64\n",
      "a    1.0\n",
      "d    NaN\n",
      "dtype: float64\n"
     ]
    }
   ],
   "source": [
    "# Masque\n",
    "print(snum.iloc[[True,False,False,True]])\n",
    "print(stxt.iloc[[True,False,False,True]])"
   ]
  },
  {
   "cell_type": "markdown",
   "metadata": {},
   "source": [
    "## III. Les valeurs manquantes"
   ]
  },
  {
   "cell_type": "markdown",
   "metadata": {},
   "source": [
    "En économie, il est assez fréquent de récupérer des données incomplètes. La manière dont les données manquantes sont gérées par pandas est le recours aux deux valeurs spéciales : <b>None</b> et <b>NaN</b>.\n",
    "La valeur None peut être utilisée dans les tableaux NumPy uniquement quand le type de ces derniers est object."
   ]
  },
  {
   "cell_type": "markdown",
   "metadata": {},
   "source": [
    "### 1. Repérer les valeurs manquantes"
   ]
  },
  {
   "cell_type": "code",
   "execution_count": 20,
   "metadata": {},
   "outputs": [
    {
     "name": "stdout",
     "output_type": "stream",
     "text": [
      "0    1.0\n",
      "1    NaN\n",
      "2   -1.0\n",
      "3    NaN\n",
      "dtype: float64\n"
     ]
    }
   ],
   "source": [
    "s = pd.Series([1,None, -1, np.nan])\n",
    "print(s)"
   ]
  },
  {
   "cell_type": "markdown",
   "metadata": {},
   "source": [
    "Avec la méthode <b>isnull()</b>, un masque de booléens est retournée, indiquant <b>True</b> pour les observations dont la valeur est <b>NaN</b> ou <b>None<b>"
   ]
  },
  {
   "cell_type": "code",
   "execution_count": 21,
   "metadata": {},
   "outputs": [
    {
     "data": {
      "text/plain": [
       "0    False\n",
       "1     True\n",
       "2    False\n",
       "3     True\n",
       "dtype: bool"
      ]
     },
     "execution_count": 21,
     "metadata": {},
     "output_type": "execute_result"
    }
   ],
   "source": [
    "s.isnull()"
   ]
  },
  {
   "cell_type": "markdown",
   "metadata": {},
   "source": [
    "Pour savoir si une valeur <u>n’est pas nulle</u>, on dispose de la méthode <b>notnull()</b>\n"
   ]
  },
  {
   "cell_type": "code",
   "execution_count": 22,
   "metadata": {},
   "outputs": [
    {
     "data": {
      "text/plain": [
       "0     True\n",
       "1    False\n",
       "2     True\n",
       "3    False\n",
       "dtype: bool"
      ]
     },
     "execution_count": 22,
     "metadata": {},
     "output_type": "execute_result"
    }
   ],
   "source": [
    "s.notnull()"
   ]
  },
  {
   "cell_type": "markdown",
   "metadata": {},
   "source": [
    "### 2. Supprimer des valeurs"
   ]
  },
  {
   "cell_type": "markdown",
   "metadata": {},
   "source": [
    "Pour supprimer une valeur manquante on utilise la méthode <b>drop</b>"
   ]
  },
  {
   "cell_type": "code",
   "execution_count": 24,
   "metadata": {},
   "outputs": [],
   "source": [
    "snum = pd.Series([1,4, -1, np.nan],index = [5,0,4,1])\n",
    "stxt = pd.Series([1,4, -1, np.nan],index = [\"c\",\"a\",\"b\",\"d\"])"
   ]
  },
  {
   "cell_type": "markdown",
   "metadata": {},
   "source": [
    "#### a. Supprimer un seul élément "
   ]
  },
  {
   "cell_type": "code",
   "execution_count": 25,
   "metadata": {},
   "outputs": [
    {
     "name": "stdout",
     "output_type": "stream",
     "text": [
      "0    4.0\n",
      "4   -1.0\n",
      "1    NaN\n",
      "dtype: float64\n"
     ]
    }
   ],
   "source": [
    "# Supprimer le premier élément de la série snum dont l'index est 5\n",
    "print(snum.drop(5))"
   ]
  },
  {
   "cell_type": "code",
   "execution_count": 26,
   "metadata": {},
   "outputs": [
    {
     "name": "stdout",
     "output_type": "stream",
     "text": [
      "a    4.0\n",
      "b   -1.0\n",
      "d    NaN\n",
      "dtype: float64\n"
     ]
    }
   ],
   "source": [
    "# Supprimer le premier élément de la série stxt dont l'index est c\n",
    "print(stxt.drop(\"c\"))"
   ]
  },
  {
   "cell_type": "markdown",
   "metadata": {},
   "source": [
    "On peut aussi aller récupérer le nom en fonction de la position, en passant par un détour en utilisant la méthode <b>index()</b>"
   ]
  },
  {
   "cell_type": "code",
   "execution_count": 30,
   "metadata": {},
   "outputs": [],
   "source": [
    "# Création des séries\n",
    "snum = pd.Series([1,4, -1, np.nan],index = [5,0,4,1])\n",
    "stxt = pd.Series([1,4, -1, np.nan],index = [\"c\",\"a\",\"b\",\"d\"])"
   ]
  },
  {
   "cell_type": "code",
   "execution_count": 31,
   "metadata": {},
   "outputs": [
    {
     "name": "stdout",
     "output_type": "stream",
     "text": [
      "snum.index[0] :  5\n"
     ]
    }
   ],
   "source": [
    "# Index du premier élément de la série snum\n",
    "print(\"snum.index[0] : \", snum.index[0])"
   ]
  },
  {
   "cell_type": "code",
   "execution_count": 32,
   "metadata": {},
   "outputs": [
    {
     "name": "stdout",
     "output_type": "stream",
     "text": [
      "stxt.index[0] : c\n"
     ]
    }
   ],
   "source": [
    "# Index du premier élément de la série stxt\n",
    "print(\"stxt.index[0] :\", stxt.index[0])"
   ]
  },
  {
   "cell_type": "code",
   "execution_count": 34,
   "metadata": {},
   "outputs": [
    {
     "name": "stdout",
     "output_type": "stream",
     "text": [
      "0    4.0\n",
      "4   -1.0\n",
      "1    NaN\n",
      "dtype: float64\n"
     ]
    }
   ],
   "source": [
    "# Supprimer le premier élément de la série snum\n",
    "print(snum.drop(snum.index[0]))"
   ]
  },
  {
   "cell_type": "code",
   "execution_count": 35,
   "metadata": {},
   "outputs": [
    {
     "name": "stdout",
     "output_type": "stream",
     "text": [
      "a    4.0\n",
      "b   -1.0\n",
      "d    NaN\n",
      "dtype: float64\n"
     ]
    }
   ],
   "source": [
    "# Supprimer le premier élément de la série stxt\n",
    "print(stxt.drop(stxt.index[0]))"
   ]
  },
  {
   "cell_type": "markdown",
   "metadata": {},
   "source": [
    "####  b. Supprimer plusieurs éléments"
   ]
  },
  {
   "cell_type": "markdown",
   "metadata": {},
   "source": [
    "Pour supprimer plusieurs éléments, il suﬃt de fournir plusieurs noms d’indice dans une liste à la méthode <b>drop()</b>"
   ]
  },
  {
   "cell_type": "code",
   "execution_count": 36,
   "metadata": {},
   "outputs": [
    {
     "name": "stdout",
     "output_type": "stream",
     "text": [
      "0    4.0\n",
      "1    NaN\n",
      "dtype: float64\n",
      "a    4.0\n",
      "d    NaN\n",
      "dtype: float64\n"
     ]
    }
   ],
   "source": [
    "# Supprimer les éléments d'indice 5 et 4 de la série snum\n",
    "print(snum.drop([5,4]))\n",
    "# Supprimer les éléments d'indice c et b de la série stxt\n",
    "print(stxt.drop([\"c\",\"b\"]))"
   ]
  },
  {
   "cell_type": "code",
   "execution_count": 44,
   "metadata": {},
   "outputs": [
    {
     "name": "stdout",
     "output_type": "stream",
     "text": [
      "Int64Index([5, 4], dtype='int64')\n",
      "Index(['c', 'b'], dtype='object')\n"
     ]
    }
   ],
   "source": [
    "# Création des séries\n",
    "snum = pd.Series([1,4, -1, np.nan],index = [5,0,4,1])\n",
    "stxt = pd.Series([1,4, -1, np.nan],index = [\"c\",\"a\",\"b\",\"d\"])\n",
    "print(snum.index[[0,2]])\n",
    "print(stxt.index[[0,2]])"
   ]
  },
  {
   "cell_type": "code",
   "execution_count": 45,
   "metadata": {},
   "outputs": [
    {
     "name": "stdout",
     "output_type": "stream",
     "text": [
      "0    4.0\n",
      "1    NaN\n",
      "dtype: float64\n",
      "a    4.0\n",
      "d    NaN\n",
      "dtype: float64\n"
     ]
    }
   ],
   "source": [
    "# Supprimer les éléments le premier et le 3e élement des deux listes\n",
    "print(snum.drop(snum.index[[0,2]]))\n",
    "print(stxt.drop(stxt.index[[0,2]]))"
   ]
  },
  {
   "cell_type": "markdown",
   "metadata": {},
   "source": [
    "#### c. Suppression avec le Slicing (Découpage)\n",
    "<b>Rq :</b> On ne peut pas utiliser la syntaxe <b>s.drop([0:2])</b>. Il faut utiliser l'attribut <b>index</b>"
   ]
  },
  {
   "cell_type": "code",
   "execution_count": 46,
   "metadata": {},
   "outputs": [],
   "source": [
    "# Création des séries\n",
    "snum = pd.Series([1,4, -1, np.nan],index = [5,0,4,1])\n",
    "stxt = pd.Series([1,4, -1, np.nan],index = [\"c\",\"a\",\"b\",\"d\"])"
   ]
  },
  {
   "cell_type": "code",
   "execution_count": 56,
   "metadata": {},
   "outputs": [
    {
     "name": "stdout",
     "output_type": "stream",
     "text": [
      "4   -1.0\n",
      "1    NaN\n",
      "dtype: float64\n",
      "b   -1.0\n",
      "d    NaN\n",
      "dtype: float64\n"
     ]
    }
   ],
   "source": [
    "# Supprimer du 1ier à 3e élément de la série snum\n",
    "print(snum.drop(snum.index[0:2]))\n",
    "# Supprimer du 1ier au 3e élément de lasérie stxt\n",
    "print(stxt.drop(stxt.index[0:2]))"
   ]
  },
  {
   "cell_type": "markdown",
   "metadata": {},
   "source": [
    "### 3. Supprimer les valeurs manquantes\n",
    "<b><u> Syntaxe:</u></b>  Series.dropna(inplace={False,True})\n",
    "\n",
    "inplace :\n",
    "* False (par défaut): Retourne une vue d'une série\n",
    "* True: La série en cours sera modifié"
   ]
  },
  {
   "cell_type": "code",
   "execution_count": 60,
   "metadata": {},
   "outputs": [
    {
     "data": {
      "text/plain": [
       "5    1.0\n",
       "0    4.0\n",
       "4   -1.0\n",
       "dtype: float64"
      ]
     },
     "execution_count": 60,
     "metadata": {},
     "output_type": "execute_result"
    }
   ],
   "source": [
    "# Supprimer les valeurs manquantes de la séries snum\n",
    "snum.dropna()"
   ]
  },
  {
   "cell_type": "code",
   "execution_count": 61,
   "metadata": {},
   "outputs": [
    {
     "data": {
      "text/plain": [
       "<bound method Series.dropna of c    1.0\n",
       "a    4.0\n",
       "b   -1.0\n",
       "d    NaN\n",
       "dtype: float64>"
      ]
     },
     "execution_count": 61,
     "metadata": {},
     "output_type": "execute_result"
    }
   ],
   "source": [
    "# Supprimer les valeurs manquantes de la série stxt\n",
    "stxt.dropna"
   ]
  },
  {
   "cell_type": "markdown",
   "metadata": {},
   "source": [
    "### 4. Supprimer les valeurs dupliqués\n",
    "\n",
    "Retourne une liste des valeurs non dupliqués\n",
    "\n",
    "<b><u>Syntaxe :</u></b>\n",
    "<i>Series.drop_duplicates(keep='first', inplace=False)</i>\n",
    "\n",
    "*  Pour keep :\n",
    "\n",
    "  * first : (par défaut) supprime les éléments dupliqués et laisse la première occurence\n",
    "  * last : supprime les éléments dupliqués et laisse la dernière occurence\n",
    "  * false : supprime toutes les déplications\n",
    " \n",
    " \n",
    "* Pour inplace\n",
    "\n",
    "  * False : (par défaut) retourne une vue d'une série\n",
    "  * True : l'effet de supprission se fait sur la série en cours "
   ]
  },
  {
   "cell_type": "code",
   "execution_count": 64,
   "metadata": {},
   "outputs": [
    {
     "data": {
      "text/plain": [
       "0      lama\n",
       "1       cow\n",
       "3    beetle\n",
       "5     hippo\n",
       "Name: animal, dtype: object"
      ]
     },
     "execution_count": 64,
     "metadata": {},
     "output_type": "execute_result"
    }
   ],
   "source": [
    "s = pd.Series(['lama', 'cow', 'lama', 'beetle', 'lama', 'hippo'],name='animal')\n",
    "s.drop_duplicates()"
   ]
  },
  {
   "cell_type": "markdown",
   "metadata": {},
   "source": [
    "## IV. Remplacement de valeurs"
   ]
  },
  {
   "cell_type": "code",
   "execution_count": 8,
   "metadata": {},
   "outputs": [
    {
     "data": {
      "text/plain": [
       "5    1.0\n",
       "0   -3.0\n",
       "4   -1.0\n",
       "1    NaN\n",
       "dtype: float64"
      ]
     },
     "execution_count": 8,
     "metadata": {},
     "output_type": "execute_result"
    }
   ],
   "source": [
    "import pandas as pd\n",
    "import numpy as np\n",
    "s = pd.Series([1,4, -1, np.nan],index = [5,0,4,1])\n",
    "s.iloc[1]=-3\n",
    "s"
   ]
  },
  {
   "cell_type": "code",
   "execution_count": 9,
   "metadata": {},
   "outputs": [
    {
     "data": {
      "text/plain": [
       "5    1.0\n",
       "0   -4.0\n",
       "4   -4.0\n",
       "1   -4.0\n",
       "dtype: float64"
      ]
     },
     "execution_count": 9,
     "metadata": {},
     "output_type": "execute_result"
    }
   ],
   "source": [
    "s.iloc[1:4]=-4\n",
    "s"
   ]
  },
  {
   "cell_type": "code",
   "execution_count": 10,
   "metadata": {},
   "outputs": [
    {
     "data": {
      "text/plain": [
       "5     1.0\n",
       "0    20.0\n",
       "4    -4.0\n",
       "1    30.0\n",
       "dtype: float64"
      ]
     },
     "execution_count": 10,
     "metadata": {},
     "output_type": "execute_result"
    }
   ],
   "source": [
    "s.iloc[[1,3]]=[20,30]\n",
    "s"
   ]
  },
  {
   "cell_type": "markdown",
   "metadata": {},
   "source": [
    "## V. Ajout de valeurs"
   ]
  },
  {
   "cell_type": "markdown",
   "metadata": {},
   "source": [
    "Pour ajouter une série ou bien une liste à la fin d'une autre série, on utilise la méthode <b>append</b>\n",
    "\n",
    "<b>Syntaxe : </b> <i>append(to_append, ignore_index=False)</i>\n",
    "avec:\n",
    "* to_append : liste ou série à ajouter\n",
    "* ignore_index :\n",
    "  - False (par défaut) : Utiliser l'index de la deuxième série\n",
    "  - True : Ne pas utiliser l'index de la deuxième série"
   ]
  },
  {
   "cell_type": "code",
   "execution_count": 19,
   "metadata": {},
   "outputs": [
    {
     "data": {
      "text/plain": [
       "0    1\n",
       "1    2\n",
       "2    3\n",
       "0    4\n",
       "1    5\n",
       "2    6\n",
       "dtype: int64"
      ]
     },
     "execution_count": 19,
     "metadata": {},
     "output_type": "execute_result"
    }
   ],
   "source": [
    "# Création des séries\n",
    "s1 = pd.Series([1, 2, 3])\n",
    "s2 = pd.Series([4, 5, 6])\n",
    "s3 = pd.Series([4, 5, 6], index=[\"a\", \"b\", \"c\"])\n",
    "# Ajouter s2 (avec son index) à la fin de s1 \n",
    "s1.append(s2)"
   ]
  },
  {
   "cell_type": "code",
   "execution_count": 20,
   "metadata": {},
   "outputs": [
    {
     "data": {
      "text/plain": [
       "0    1\n",
       "1    2\n",
       "2    3\n",
       "a    4\n",
       "b    5\n",
       "c    6\n",
       "dtype: int64"
      ]
     },
     "execution_count": 20,
     "metadata": {},
     "output_type": "execute_result"
    }
   ],
   "source": [
    "# Ajouter s3 (avec son index) à la fin de s1 et laisser l'index de s3\n",
    "s1.append(s3)"
   ]
  },
  {
   "cell_type": "code",
   "execution_count": 13,
   "metadata": {},
   "outputs": [
    {
     "data": {
      "text/plain": [
       "0    1\n",
       "1    2\n",
       "2    3\n",
       "3    4\n",
       "4    5\n",
       "5    6\n",
       "dtype: int64"
      ]
     },
     "execution_count": 13,
     "metadata": {},
     "output_type": "execute_result"
    }
   ],
   "source": [
    "# Ajouter s2 à la fin de s1 (continuer avec l'index de s1)\n",
    "s1.append(s2,ignore_index=True)"
   ]
  },
  {
   "cell_type": "code",
   "execution_count": 21,
   "metadata": {},
   "outputs": [
    {
     "data": {
      "text/plain": [
       "0    1\n",
       "1    2\n",
       "2    3\n",
       "3    4\n",
       "4    5\n",
       "5    6\n",
       "dtype: int64"
      ]
     },
     "execution_count": 21,
     "metadata": {},
     "output_type": "execute_result"
    }
   ],
   "source": [
    "# Ajouter s3 à la fin de s1 (continuer avec l'inde de s1)\n",
    "s1.append(s3,ignore_index=True)"
   ]
  },
  {
   "cell_type": "markdown",
   "metadata": {},
   "source": [
    "<b>Remarque : </b> la méthode <b>append</b> retourne <b><i><u>une vue</u></i></b> de la concaténation et les séries ne sont pas modifiés"
   ]
  },
  {
   "cell_type": "code",
   "execution_count": 22,
   "metadata": {},
   "outputs": [
    {
     "data": {
      "text/plain": [
       "0    1\n",
       "1    2\n",
       "2    3\n",
       "dtype: int64"
      ]
     },
     "execution_count": 22,
     "metadata": {},
     "output_type": "execute_result"
    }
   ],
   "source": [
    "s1"
   ]
  },
  {
   "cell_type": "markdown",
   "metadata": {},
   "source": [
    "## VI. Opération arithmétiques et Statiques\n",
    "### 1. Opérations arithmétiques et statique sur une série"
   ]
  },
  {
   "cell_type": "code",
   "execution_count": 23,
   "metadata": {},
   "outputs": [
    {
     "data": {
      "text/plain": [
       "0     5\n",
       "1    40\n",
       "2     6\n",
       "3    98\n",
       "4     4\n",
       "dtype: int64"
      ]
     },
     "execution_count": 23,
     "metadata": {},
     "output_type": "execute_result"
    }
   ],
   "source": [
    "# Création de la série\n",
    "s = pd.Series([5,40,6,98,4])\n",
    "s"
   ]
  },
  {
   "cell_type": "code",
   "execution_count": 24,
   "metadata": {},
   "outputs": [
    {
     "data": {
      "text/plain": [
       "count     5.00000\n",
       "mean     30.60000\n",
       "std      40.61773\n",
       "min       4.00000\n",
       "25%       5.00000\n",
       "50%       6.00000\n",
       "75%      40.00000\n",
       "max      98.00000\n",
       "dtype: float64"
      ]
     },
     "execution_count": 24,
     "metadata": {},
     "output_type": "execute_result"
    }
   ],
   "source": [
    "# Afficher la statistiques descriptives (la valeurs NAN ne sont pas pris en compte)\n",
    "s.describe()"
   ]
  },
  {
   "cell_type": "code",
   "execution_count": 30,
   "metadata": {},
   "outputs": [
    {
     "name": "stdout",
     "output_type": "stream",
     "text": [
      "max :  98\n",
      "Index max :  3\n"
     ]
    }
   ],
   "source": [
    "# Valeur maximale\n",
    "print(\"max : \",s.max())\n",
    "# index de la valeur maximale\n",
    "print(\"Index max : \",s.idxmax())"
   ]
  },
  {
   "cell_type": "code",
   "execution_count": 31,
   "metadata": {},
   "outputs": [
    {
     "name": "stdout",
     "output_type": "stream",
     "text": [
      "min :  4\n",
      "Index min :  4\n"
     ]
    }
   ],
   "source": [
    "# Valeur minimale\n",
    "print(\"min : \",s.min())\n",
    "# index de la valeur minimale\n",
    "print(\"Index min : \",s.idxmin())"
   ]
  },
  {
   "cell_type": "code",
   "execution_count": 32,
   "metadata": {},
   "outputs": [
    {
     "name": "stdout",
     "output_type": "stream",
     "text": [
      "Somme :  153\n"
     ]
    }
   ],
   "source": [
    "# La somme\n",
    "print(\"Somme : \",s.sum())"
   ]
  },
  {
   "cell_type": "code",
   "execution_count": 34,
   "metadata": {},
   "outputs": [
    {
     "name": "stdout",
     "output_type": "stream",
     "text": [
      "Somme cumulé : \n",
      " 0      5\n",
      "1     45\n",
      "2     51\n",
      "3    149\n",
      "4    153\n",
      "dtype: int64\n"
     ]
    }
   ],
   "source": [
    "# La somme cumulée\n",
    "print(\"Somme cumulé : \\n\",s.cumsum())"
   ]
  },
  {
   "cell_type": "markdown",
   "metadata": {},
   "source": [
    "### 2. Calcul arithmétiques entre deux séries"
   ]
  },
  {
   "cell_type": "code",
   "execution_count": 36,
   "metadata": {},
   "outputs": [],
   "source": [
    "# Création de deux séries\n",
    "s1 = pd.Series([1,2,3,4])\n",
    "s2 = pd.Series([5,5,5,5])"
   ]
  },
  {
   "cell_type": "code",
   "execution_count": 37,
   "metadata": {},
   "outputs": [
    {
     "data": {
      "text/plain": [
       "0    6\n",
       "1    7\n",
       "2    8\n",
       "3    9\n",
       "dtype: int64"
      ]
     },
     "execution_count": 37,
     "metadata": {},
     "output_type": "execute_result"
    }
   ],
   "source": [
    "# Somme de deux séries\n",
    "s1+s2"
   ]
  },
  {
   "cell_type": "code",
   "execution_count": 38,
   "metadata": {},
   "outputs": [
    {
     "data": {
      "text/plain": [
       "0     5\n",
       "1    10\n",
       "2    15\n",
       "3    20\n",
       "dtype: int64"
      ]
     },
     "execution_count": 38,
     "metadata": {},
     "output_type": "execute_result"
    }
   ],
   "source": [
    "# Produit de deux séries\n",
    "s1*s2"
   ]
  },
  {
   "cell_type": "markdown",
   "metadata": {},
   "source": [
    "## VII. Tri de Série\n",
    "<b>Syntaxe : </b> <i><b>sort_values(ascending=True, inplace=False, kind='quicksort', na_position='last')</b></i>\n",
    "\n",
    "Avec :\n",
    "* Ascending =\n",
    "    - True (par défaut) : Tri décroissant\n",
    "    - False : Tri décroissant\n",
    "* inplace = \n",
    "    - False (par défaut) : retourné une vue triée\n",
    "    - True : trier la série sur place\n",
    "* kind =\n",
    "    - quicksort (par défaut) : Tri rapide\n",
    "    - mergesort :Tri fusin\n",
    "    - heapsort : Tri par tas\n",
    "* na_position =\n",
    "    - last : les valeurs NaN seront à la fin de la série\n",
    "    - first : les valeurs NaN seront au début de la série\n"
   ]
  },
  {
   "cell_type": "code",
   "execution_count": 42,
   "metadata": {},
   "outputs": [
    {
     "name": "stdout",
     "output_type": "stream",
     "text": [
      "Série s avant le Tri :\n",
      "0    81\n",
      "1    42\n",
      "2    33\n",
      "3    30\n",
      "4    64\n",
      "5    85\n",
      "6    33\n",
      "7    63\n",
      "8    25\n",
      "9    39\n",
      "dtype: int32\n",
      "Série s après le Tri : \n",
      "5    85\n",
      "0    81\n",
      "4    64\n",
      "7    63\n",
      "1    42\n",
      "9    39\n",
      "6    33\n",
      "2    33\n",
      "3    30\n",
      "8    25\n",
      "dtype: int32\n"
     ]
    }
   ],
   "source": [
    "# Création de la série\n",
    "s = pd.Series(np.random.randint(1,99,10))\n",
    "print(\"Série s avant le Tri :\")\n",
    "print(s)\n",
    "# Trier dans un ordre décroissant avec la méthode Tri fusion\n",
    "s.sort_values(ascending=False,inplace=True,kind=\"mergesort\")\n",
    "print(\"Série s après le Tri : \")\n",
    "print(s)"
   ]
  },
  {
   "cell_type": "code",
   "execution_count": null,
   "metadata": {},
   "outputs": [],
   "source": []
  }
 ],
 "metadata": {
  "kernelspec": {
   "display_name": "Python 3",
   "language": "python",
   "name": "python3"
  },
  "language_info": {
   "codemirror_mode": {
    "name": "ipython",
    "version": 3
   },
   "file_extension": ".py",
   "mimetype": "text/x-python",
   "name": "python",
   "nbconvert_exporter": "python",
   "pygments_lexer": "ipython3",
   "version": "3.7.3"
  }
 },
 "nbformat": 4,
 "nbformat_minor": 2
}
